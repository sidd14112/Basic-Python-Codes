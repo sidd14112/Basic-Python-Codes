{
  "nbformat": 4,
  "nbformat_minor": 0,
  "metadata": {
    "colab": {
      "provenance": []
    },
    "kernelspec": {
      "name": "python3",
      "display_name": "Python 3"
    },
    "language_info": {
      "name": "python"
    }
  },
  "cells": [
    {
      "cell_type": "markdown",
      "source": [
        "1)Explain with an example each when to use a for loop and a while loop."
      ],
      "metadata": {
        "id": "GD-p4u0Eaphb"
      }
    },
    {
      "cell_type": "code",
      "execution_count": 39,
      "metadata": {
        "colab": {
          "base_uri": "https://localhost:8080/"
        },
        "id": "XIO-a1MhIhWO",
        "outputId": "1cdd1b82-f7cb-4afe-81e8-57ff1f9b1e20"
      },
      "outputs": [
        {
          "output_type": "stream",
          "name": "stdout",
          "text": [
            "1\n",
            "2\n",
            "3\n",
            "4\n",
            "5\n",
            "Enter a value (type 'done' to quit): done\n",
            "You entered: done\n"
          ]
        }
      ],
      "source": [
        "# For Loop:\n",
        "# Use a for loop when you know the number of iterations in advance. For example, to iterate through a list of known length:\n",
        "my_list = [1, 2, 3, 4, 5]\n",
        "\n",
        "for i in range(len(my_list)):\n",
        "    print(my_list[i])\n",
        "\n",
        "# While Loop:\n",
        "# Use a while loop when you don't know the number of iterations in advance. For example, to keep reading user input until they enter a specific value:\n",
        "\n",
        "user_input = \"\"\n",
        "\n",
        "while user_input != \"done\":\n",
        "    user_input = input(\"Enter a value (type 'done' to quit): \")\n",
        "    print(f\"You entered: {user_input}\")\n",
        "\n",
        ""
      ]
    },
    {
      "cell_type": "code",
      "source": [
        "#2) a python program to print the sum and product of the first 10 natural numbers using for and while loop\n",
        "first_10_natural_no = range(1,11)\n",
        "sum = 0\n",
        "product=1\n",
        "\n",
        "for i in first_10_natural_no:\n",
        "   sum = sum + i\n",
        "print(sum)\n",
        "\n",
        "for i in first_10_natural_no:\n",
        "   product = product*i\n",
        "print(product)\n"
      ],
      "metadata": {
        "colab": {
          "base_uri": "https://localhost:8080/"
        },
        "id": "jjxD1LjfImAe",
        "outputId": "fd56da44-a036-45ce-e218-662a27c0c72a"
      },
      "execution_count": 4,
      "outputs": [
        {
          "output_type": "stream",
          "name": "stdout",
          "text": [
            "55\n",
            "3628800\n"
          ]
        }
      ]
    },
    {
      "cell_type": "markdown",
      "source": [
        "3) program to compute the electricity bill for a household.program to compute the electricity bill for a household.\n",
        "The per-unit charges in rupees are as follows: For the first 100 units, the user will be charged Rs. 4.5 per\n",
        "unit, for the next 100 units, the user will be charged Rs. 6 per unit, and for the next 100 units, the user will\n",
        "be charged Rs. 10 per unit, After 300 units and above the user will be charged Rs. 20 per unit.You are required to take the units of electricity consumed in a month from the user as input.\n",
        "Your program must pass this test case: when the unit of electricity consumed by the user in a month is\n",
        "310, the total electricity bill should be 2250.\n",
        "\n"
      ],
      "metadata": {
        "id": "RY6upw19KclP"
      }
    },
    {
      "cell_type": "code",
      "source": [
        "units = int(input(\"Enter Electricity consumption in units\"))\n",
        "bill_amt = 0.0\n",
        "if units <= 100:\n",
        "   bill_amt = units*4.5\n",
        "   print(bill_amt)\n",
        "elif 100 < units <= 200:\n",
        "   bill_amt = 100*4.5 + (units-100)*6\n",
        "   print(bill_amt)\n",
        "elif 200 < units <= 300:\n",
        "   bill_amt = 100*4.5 + 100*6 + (units-200)*10\n",
        "   print(bill_amt)\n",
        "else:\n",
        "   bill_amt = 100*4.5 + 100*6 + 100*10 + (units-300)*20\n",
        "   print(bill_amt)\n",
        "\n",
        "\n",
        ""
      ],
      "metadata": {
        "colab": {
          "base_uri": "https://localhost:8080/"
        },
        "id": "pjbFDr46KV5F",
        "outputId": "0568f0a4-f87f-4f67-cbf1-4d466f9d9db3"
      },
      "execution_count": 12,
      "outputs": [
        {
          "output_type": "stream",
          "name": "stdout",
          "text": [
            "Enter Electricity consumption in units310\n",
            "2250.0\n"
          ]
        }
      ]
    },
    {
      "cell_type": "code",
      "source": [
        "def calculate_electricity_bill(units):\n",
        "  \"\"\"\n",
        "  Calculates the electricity bill based on unit consumption and varying charges per unit.\n",
        "\n",
        "  Args:\n",
        "      units: The number of units consumed (int).\n",
        "\n",
        "  Returns:\n",
        "      The electricity bill amount (float).\n",
        "  \"\"\"\n",
        "\n",
        "  tiers = [\n",
        "      (100, 4.5),\n",
        "      (100, 6),\n",
        "      (100, 10),\n",
        "      (float('inf'), 20),  # Use infinity for units exceeding all tiers\n",
        "  ]\n",
        "\n",
        "  bill_amount = 0.0\n",
        "  for tier_limit, rate in tiers:\n",
        "    if units <= tier_limit:\n",
        "      bill_amount += units * rate\n",
        "      break\n",
        "    else:\n",
        "      bill_amount += tier_limit * rate\n",
        "      units -= tier_limit\n",
        "\n",
        "  return bill_amount\n",
        "\n",
        "# Example usage\n",
        "units = 310\n",
        "bill_amount = calculate_electricity_bill(units)\n",
        "print(\"Electricity bill for\", units, \"units:\", bill_amount)\n"
      ],
      "metadata": {
        "colab": {
          "base_uri": "https://localhost:8080/"
        },
        "id": "aV0Or08FQKN8",
        "outputId": "d9870d83-03a5-4683-c87c-6d367d39626a"
      },
      "execution_count": 14,
      "outputs": [
        {
          "output_type": "stream",
          "name": "stdout",
          "text": [
            "Electricity bill for 310 units: 2250.0\n"
          ]
        }
      ]
    },
    {
      "cell_type": "markdown",
      "source": [
        "4) Create a list of numbers from 1 to 100. Use for loop and while loop to calculate the cube of each\n",
        "number and if the cube of that number is divisible by 4 or 5 then append that number in a list and print\n",
        "that list."
      ],
      "metadata": {
        "id": "zcPPHU3IQW4K"
      }
    },
    {
      "cell_type": "code",
      "source": [
        "list1 = list(range(1,101))\n",
        "#print(list1)\n",
        "cube = 1\n",
        "required_list = [] # Cube of numbers between 1 to 100 is stored if its divisible by 4 or 5\n",
        "for i in list1:\n",
        "   cube = i**3\n",
        "   while cube % 4 == 0 or cube % 5 == 0:\n",
        "     required_list.append(i)\n",
        "     break\n",
        "print(required_list)\n",
        "\n"
      ],
      "metadata": {
        "colab": {
          "base_uri": "https://localhost:8080/"
        },
        "id": "pWKiVAqFQdPa",
        "outputId": "5ac9b715-fa25-4008-a0a6-33d0ba22afcd"
      },
      "execution_count": 38,
      "outputs": [
        {
          "output_type": "stream",
          "name": "stdout",
          "text": [
            "[2, 4, 5, 6, 8, 10, 12, 14, 15, 16, 18, 20, 22, 24, 25, 26, 28, 30, 32, 34, 35, 36, 38, 40, 42, 44, 45, 46, 48, 50, 52, 54, 55, 56, 58, 60, 62, 64, 65, 66, 68, 70, 72, 74, 75, 76, 78, 80, 82, 84, 85, 86, 88, 90, 92, 94, 95, 96, 98, 100]\n"
          ]
        }
      ]
    },
    {
      "cell_type": "markdown",
      "source": [
        "5) Write a program to filter count vowels in the below-given string.\n",
        "string = \"I want to become a data scientist\""
      ],
      "metadata": {
        "id": "W_qHtH-IUvrd"
      }
    },
    {
      "cell_type": "code",
      "source": [
        "s1 = \"I want to become a data scientist\"\n",
        "#s2 = input(\" Enter any string to find a count of vovels\")\n",
        "vovels = ['a','e','i','o','u','A','E','I','O','U']\n",
        "count = 0\n",
        "for i in s1:\n",
        "   for j in vovels:\n",
        "     if i == j:\n",
        "       count = count + 1\n",
        "\n",
        "print(count)\n"
      ],
      "metadata": {
        "colab": {
          "base_uri": "https://localhost:8080/"
        },
        "id": "2HZdIJaAUzRD",
        "outputId": "865fda16-0afb-4596-8c5c-9eaf23b6d753"
      },
      "execution_count": 37,
      "outputs": [
        {
          "output_type": "stream",
          "name": "stdout",
          "text": [
            "12\n"
          ]
        }
      ]
    },
    {
      "cell_type": "code",
      "source": [
        "string = \"I want to become a data scientist\"\n",
        "\n",
        "vowels = \"aeiouAEIOU\"\n",
        "vowel_count = 0\n",
        "\n",
        "for char in string:\n",
        "  if char in vowels:\n",
        "    vowel_count += 1\n",
        "\n",
        "print(\"Number of vowels in the string:\", vowel_count)\n"
      ],
      "metadata": {
        "colab": {
          "base_uri": "https://localhost:8080/"
        },
        "id": "6YQaf4hpYo9n",
        "outputId": "9dc7ade5-d5dd-4ac7-fca2-c1dd33440d5d"
      },
      "execution_count": 36,
      "outputs": [
        {
          "output_type": "stream",
          "name": "stdout",
          "text": [
            "Number of vowels in the string: 12\n"
          ]
        }
      ]
    }
  ]
}