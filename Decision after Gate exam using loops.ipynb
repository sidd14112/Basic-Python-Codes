{
  "nbformat": 4,
  "nbformat_minor": 0,
  "metadata": {
    "colab": {
      "provenance": []
    },
    "kernelspec": {
      "name": "python3",
      "display_name": "Python 3"
    },
    "language_info": {
      "name": "python"
    }
  },
  "cells": [
    {
      "cell_type": "markdown",
      "source": [
        "Loops and function in Python"
      ],
      "metadata": {
        "id": "fVGmk7VuxinK"
      }
    },
    {
      "cell_type": "code",
      "source": [
        "def gate_advisor(gate_score, gap_year, last_hope, discipline):\n",
        "    advice = None\n",
        "\n",
        "    # Prioritize higher score cases for efficiency\n",
        "    if gate_score >= 800:\n",
        "        advice = \"Revise gate syllabus and prepare for IIT interview\"\n",
        "    elif gate_score >= 700:\n",
        "        advice = \"Revise gate syllabus and prepare for IIT & NIT interview\"\n",
        "    elif 600 <= gate_score < 700 and 1 <= gap_year <= 2:\n",
        "        advice = \"Revise gate syllabus and prepare for IIT & NIT Mtech Research interview\"\n",
        "    elif 500 <= gate_score < 600 and 1 <= gap_year <= 2:\n",
        "        advice = \"Complete syllabus, gain job skills, apply for MTech Research at NITs and jobs\"\n",
        "\n",
        "    # Handle lower score and gap year case more efficiently\n",
        "    elif 0 <= gate_score < 500 and 1 <= gap_year <= 3:\n",
        "        if last_hope == \"YES\" and discipline == \"YES\":\n",
        "            advice = \"\"\"\n",
        "            You need to work hard.\n",
        "            Skill set: Python, PowerBi, DSA, Azure\n",
        "       .     Plan:\n",
        "            - Learn Python and PowerBi (10 days)\n",
        "            - Learn DSA & Engineering Mathematics (2-3 months)\n",
        "            - March-May: Ready for development role, analytics, and major GATE syllabus covered\n",
        "            - June-July: Practice aptitude, revise, and hunt for IIT/NIT courses and jobs\n",
        "            - Complete data analytics, ML, and AI in parallel\n",
        "            - If not getting admission, keep job hunting, make Python projects, revise DBMS, and practice PYQs.\n",
        "            - Don't fall into a mechanical job loop.\n",
        "            \"\"\"\n",
        "        else:  # No need for further nested checks here; combine remaining cases\n",
        "            advice = \"Job hunt for any mechanical role and upskill accordingly.\"\n",
        "\n",
        "    if advice is not None:\n",
        "        print(advice)\n",
        "    else:\n",
        "        print(\"Prepare again\")\n",
        "\n",
        "gate_score = int(input('Enter your GATE score'))\n",
        "drop_year = int(input(\"After graduation how many gap years you took\"))\n",
        "last_hope = input(\"Have you figured out a way to study for 10 hours consistently (Say yes or no) \").upper()\n",
        "disipline = input(\"Are you ready to tolerate boredom, pain, give up cheap entertainment (Say yes or no) \").upper()\n",
        "\n",
        "gate_advisor(gate_score, drop_year, last_hope, disipline)\n"
      ],
      "metadata": {
        "colab": {
          "base_uri": "https://localhost:8080/"
        },
        "id": "KOc8ca2WnuER",
        "outputId": "e401ab8b-7fbc-41a9-b9ad-ec218be75b0c"
      },
      "execution_count": null,
      "outputs": [
        {
          "output_type": "stream",
          "name": "stdout",
          "text": [
            "Enter your GATE score462\n",
            "After graduation how many gap years you took2\n",
            "Have you figured out a way to study for 10 hours consistently (Say yes or no) yes\n",
            "Are you ready to tolerate boredom, pain, give up cheap entertainment (Say yes or no) no\n",
            "Job hunt for any mechanical role and upskill accordingly.\n"
          ]
        }
      ]
    },
    {
      "cell_type": "markdown",
      "source": [],
      "metadata": {
        "id": "afLZWbODx3qp"
      }
    },
    {
      "cell_type": "code",
      "source": [
        "l = [1,2,3,4,5,6,7,8]\n",
        "l1 = []\n",
        "for i in l:\n",
        "  #print(i)\n",
        "  l1.append(i+1)\n",
        "  #print(l1)\n",
        "print(l1)\n",
        "\n"
      ],
      "metadata": {
        "colab": {
          "base_uri": "https://localhost:8080/"
        },
        "id": "Kj6B7MYkxLOj",
        "outputId": "7fada443-e34f-4991-b3b9-5e360e6ee315"
      },
      "execution_count": null,
      "outputs": [
        {
          "output_type": "stream",
          "name": "stdout",
          "text": [
            "[2, 3, 4, 5, 6, 7, 8, 9]\n"
          ]
        }
      ]
    },
    {
      "cell_type": "code",
      "source": [
        "u = [\"Sidd\", \"vivek\", \"saurabh\"]\n",
        "u1 = []\n",
        "for i in u :\n",
        "   u1.append(i.upper())\n",
        "print(u1)\n",
        ""
      ],
      "metadata": {
        "colab": {
          "base_uri": "https://localhost:8080/"
        },
        "id": "5wFJm7AvoP62",
        "outputId": "4039505b-fe47-4099-fb0a-65bddaeb9a6c"
      },
      "execution_count": 4,
      "outputs": [
        {
          "output_type": "stream",
          "name": "stdout",
          "text": [
            "['SIDD', 'VIVEK', 'SAURABH']\n"
          ]
        }
      ]
    },
    {
      "cell_type": "code",
      "source": [
        "l = [1,2,3,4,5,'sidd','vivek','saurabh', 44, 44.55, \"shushil\"]\n",
        "integer = []\n",
        "string = []\n",
        "for i in l :\n",
        "   if type(i) == int or type(i) == float :\n",
        "    integer.append(i)\n",
        "   else :\n",
        "    string.append(i)\n",
        "print(integer)\n",
        "print(string)\n",
        "\n",
        ""
      ],
      "metadata": {
        "colab": {
          "base_uri": "https://localhost:8080/"
        },
        "id": "52EWmGHxplUJ",
        "outputId": "e8c440d3-26bb-41cb-e346-9ad28d20576e"
      },
      "execution_count": 5,
      "outputs": [
        {
          "output_type": "stream",
          "name": "stdout",
          "text": [
            "[1, 2, 3, 4, 5, 44, 44.55]\n",
            "['sidd', 'vivek', 'saurabh', 'shushil']\n"
          ]
        }
      ]
    },
    {
      "cell_type": "code",
      "source": [],
      "metadata": {
        "id": "tls-KIQquBjH"
      },
      "execution_count": null,
      "outputs": []
    }
  ]
}