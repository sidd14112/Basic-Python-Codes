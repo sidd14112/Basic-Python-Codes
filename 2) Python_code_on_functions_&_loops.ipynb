{
  "nbformat": 4,
  "nbformat_minor": 0,
  "metadata": {
    "colab": {
      "provenance": []
    },
    "kernelspec": {
      "name": "python3",
      "display_name": "Python 3"
    },
    "language_info": {
      "name": "python"
    }
  },
  "cells": [
    {
      "cell_type": "markdown",
      "source": [
        "Q1. Which keyword is used to create a function? Create a function to return a list of odd numbers in the\n",
        "range of 1 to 25."
      ],
      "metadata": {
        "id": "5P1DR6GujgtA"
      }
    },
    {
      "cell_type": "code",
      "execution_count": null,
      "metadata": {
        "colab": {
          "base_uri": "https://localhost:8080/"
        },
        "id": "tUK2m6r0jdIz",
        "outputId": "0cb722f3-b301-491d-d03b-c873e824a464"
      },
      "outputs": [
        {
          "output_type": "stream",
          "name": "stdout",
          "text": [
            "[1, 2, 3, 4, 5, 6, 7, 8, 9, 10, 11, 12, 13, 14, 15, 16, 17, 18, 19, 20, 21, 22, 23, 24, 25]\n"
          ]
        },
        {
          "output_type": "execute_result",
          "data": {
            "text/plain": [
              "[1, 3, 5, 7, 9, 11, 13, 15, 17, 19, 21, 23, 25]"
            ]
          },
          "metadata": {},
          "execution_count": 4
        }
      ],
      "source": [
        "_no = list(range(1,26))\n",
        "print(_no)\n",
        "\n",
        "def odd_no(_no):\n",
        "   l_odd_no = []\n",
        "   for i in _no:\n",
        "     if i % 2 == 1:\n",
        "       l_odd_no.append(i)\n",
        "   return l_odd_no\n",
        "odd_no(_no)\n",
        "\n",
        "\n"
      ]
    },
    {
      "cell_type": "markdown",
      "source": [
        "Q2. Why *args and **kwargs is used in some functions? Create a function each for *args and **kwargs\n",
        "to demonstrate their use.\n",
        "\n",
        "A) *args let us take multiple prarmeters and return a tuple containing input parameters\n",
        "\n",
        "B)**kwargs let us take multiple prarmeters and return a dictionary containing (key value pair) as input parameters.  "
      ],
      "metadata": {
        "id": "ck8R0QKdljLj"
      }
    },
    {
      "cell_type": "code",
      "source": [
        "# Function that combines all input via args and kwargs into single tuple.\n",
        "\n",
        "def func(*args,**kwargs):\n",
        "    return args + tuple(kwargs.values()) # Ensures it returns same tuple data.\n",
        "func(1, 2, 3, 4, 56, 7, 5, 6, 7, a=\"Sidd\", b='Vivek', c=\"Lost\")\n",
        "\n",
        "\n"
      ],
      "metadata": {
        "colab": {
          "base_uri": "https://localhost:8080/"
        },
        "id": "hpMwDjpFlkma",
        "outputId": "acd1f3ef-f571-4ea6-f3f7-61014d6f1ed5"
      },
      "execution_count": null,
      "outputs": [
        {
          "output_type": "execute_result",
          "data": {
            "text/plain": [
              "(1, 2, 3, 4, 56, 7, 5, 6, 7, 'Sidd', 'Vivek', 'Lost')"
            ]
          },
          "metadata": {},
          "execution_count": 11
        }
      ]
    },
    {
      "cell_type": "markdown",
      "source": [
        "Positional arguments must come first: All positional arguments must be placed before any keyword arguments in a function call.\n",
        "Keyword arguments after positional: It's acceptable to have no keyword arguments, but if you use any keyword arguments, they must be placed after all positional arguments.\n",
        "You cannot mix positional and keyword arguments for the same parameter. All positional arguments must come before keyword arguments in the function call."
      ],
      "metadata": {
        "id": "0jeTe5A02_9a"
      }
    },
    {
      "cell_type": "markdown",
      "source": [
        "Q3) What is an iterator in python? Name the method used to initialise the iterator object and the method\n",
        "used for iteration. Use these methods to print the first five elements of the given list [2, 4, 6, 8, 10, 12, 14,\n",
        "16, 18, 20]."
      ],
      "metadata": {
        "id": "QvzNJHLL3tkz"
      }
    },
    {
      "cell_type": "code",
      "source": [
        "l =  [2, 4, 6, 8, 10, 12, 14, 16, 18, 20]\n",
        "\n",
        "def specific(l):\n",
        "   specify_element = int(input(\"Enter no of initial elements required\"))\n",
        "   count = 0\n",
        "   l1 = []\n",
        "   for i in l:\n",
        "     l1.append(i)\n",
        "     count += 1\n",
        "     if count == specify_element:\n",
        "       break\n",
        "\n",
        "   return l1\n",
        "\n",
        "specific(l)\n",
        "\n"
      ],
      "metadata": {
        "colab": {
          "base_uri": "https://localhost:8080/"
        },
        "id": "7CV4PDed3fvR",
        "outputId": "7861a527-2d97-459b-de23-528a2760429b"
      },
      "execution_count": null,
      "outputs": [
        {
          "name": "stdout",
          "output_type": "stream",
          "text": [
            "Enter no of initial elements required5\n"
          ]
        },
        {
          "output_type": "execute_result",
          "data": {
            "text/plain": [
              "[2, 4, 6, 8, 10]"
            ]
          },
          "metadata": {},
          "execution_count": 22
        }
      ]
    },
    {
      "cell_type": "markdown",
      "source": [
        "the variable count must be declared as a local variable within the function.\n",
        "\n",
        "Q) If we are defining variables globally how we eecute the above program\n",
        "Q) If we define variables outside the function then we have to pass the variable as argument ? how to execute that for above code."
      ],
      "metadata": {
        "id": "QpQTJ9oh7T9v"
      }
    },
    {
      "cell_type": "markdown",
      "source": [
        "Q4. What is a generator function in python? Why yield keyword is used? Give an example of a generator\n",
        "function."
      ],
      "metadata": {
        "id": "jl8n64cI79Ug"
      }
    },
    {
      "cell_type": "markdown",
      "source": [
        "Generator Functions\n",
        "\n",
        "In Python, generator functions are a special type of function that create iterators. Unlike regular functions that return a single value, generator functions yield a sequence of values one at a time. This makes them memory-efficient when dealing with large datasets or infinite sequences.\n",
        "\n",
        "The yield Keyword\n",
        "\n",
        "The yield keyword is the heart of generator functions. It serves two purposes:\n",
        "\n",
        "Pausing Execution: When the yield statement is encountered within a generator function, the function's execution pauses, and the current state (including local variables) is preserved. The yielded value is returned to the caller.\n",
        "\n",
        "Resuming Execution: When the caller iterates over the generator object using methods like next(), the generator function resumes execution from the point where it left off (after the yield statement). This allows the generator to produce values on demand, rather than creating a large list in memory all at once.\n",
        "\n",
        "Example: Fibonacci Sequence Generator\n",
        "\n",
        "Here's an example of a generator function that calculates the Fibonacci sequence:"
      ],
      "metadata": {
        "id": "D8ebVoyLFKXF"
      }
    },
    {
      "cell_type": "code",
      "source": [
        "def fibonacci_generator(n):\n",
        "  \"\"\"\n",
        "  Generates the Fibonacci sequence up to n terms.\n",
        "  \"\"\"\n",
        "  a, b = 0, 1\n",
        "  for _ in range(n):\n",
        "    yield a\n",
        "    a, b = b, a + b\n",
        "\n",
        "# Get the first 10 Fibonacci numbers\n",
        "for num in fibonacci_generator(10):\n",
        "  print(num)\n"
      ],
      "metadata": {
        "id": "r5XbPs588Cpd",
        "colab": {
          "base_uri": "https://localhost:8080/",
          "height": 0
        },
        "outputId": "8480c175-7058-49a9-f2e2-76cbb6b450a7"
      },
      "execution_count": 13,
      "outputs": [
        {
          "output_type": "stream",
          "name": "stdout",
          "text": [
            "0\n",
            "1\n",
            "1\n",
            "2\n",
            "3\n",
            "5\n",
            "8\n",
            "13\n",
            "21\n",
            "34\n"
          ]
        }
      ]
    },
    {
      "cell_type": "markdown",
      "source": [
        "Q5. Create a generator function for prime numbers less than 1000. Use the next() method to print the\n",
        "first 20 prime numbers."
      ],
      "metadata": {
        "id": "BzCDhPZw8DK5"
      }
    },
    {
      "cell_type": "markdown",
      "source": [],
      "metadata": {
        "id": "d2T-PImXFI8a"
      }
    },
    {
      "cell_type": "code",
      "source": [
        "def prime_generator():\n",
        "  \"\"\"\n",
        "  Generates prime numbers less than 1000.\n",
        "  \"\"\"\n",
        "  num = 2\n",
        "  while True:\n",
        "    # Check for primality\n",
        "    is_prime = True\n",
        "    for i in range(2, int(num**0.5) + 1):\n",
        "      if num % i == 0:\n",
        "        is_prime = False\n",
        "        break\n",
        "    if is_prime:\n",
        "      yield num\n",
        "    num += 1\n",
        "\n",
        "# Print the first 20 prime numbers\n",
        "prime_gen = prime_generator()\n",
        "for _ in range(20):\n",
        "  print(next(prime_gen))\n"
      ],
      "metadata": {
        "id": "PsALJCJR8Fb0",
        "colab": {
          "base_uri": "https://localhost:8080/",
          "height": 0
        },
        "outputId": "02cbb868-df7a-4119-cfc2-ed847979e414"
      },
      "execution_count": 12,
      "outputs": [
        {
          "output_type": "stream",
          "name": "stdout",
          "text": [
            "2\n",
            "3\n",
            "5\n",
            "7\n",
            "11\n",
            "13\n",
            "17\n",
            "19\n",
            "23\n",
            "29\n",
            "31\n",
            "37\n",
            "41\n",
            "43\n",
            "47\n",
            "53\n",
            "59\n",
            "61\n",
            "67\n",
            "71\n"
          ]
        }
      ]
    },
    {
      "cell_type": "code",
      "source": [],
      "metadata": {
        "id": "4hU6yiik_V3S"
      },
      "execution_count": null,
      "outputs": []
    },
    {
      "cell_type": "markdown",
      "source": [
        "Q6. Write a python program to print the first 10 Fibonacci numbers using a while loop."
      ],
      "metadata": {
        "id": "-BsKOL0y8F3v"
      }
    },
    {
      "cell_type": "code",
      "source": [
        "series = int(input(\"Enter the number of terms in the Fibonacci series: \"))\n",
        "num1 = int(input(\"Enter the starting number (default: 1): \") or 1)  # Default starting number\n",
        "\n",
        "num2 = num1 + 1\n",
        "sum1 = num1 + num2\n",
        "count = 0\n",
        "\n",
        "while count < series:\n",
        "    print(num1)\n",
        "    num1 = num2\n",
        "    num2 = sum1\n",
        "    sum1 = num1 + num2\n",
        "    count += 1\n"
      ],
      "metadata": {
        "colab": {
          "base_uri": "https://localhost:8080/",
          "height": 0
        },
        "id": "hyp69LU3AEOR",
        "outputId": "6c533fc4-f292-48e7-da25-9d77dfb5aff1"
      },
      "execution_count": 4,
      "outputs": [
        {
          "output_type": "stream",
          "name": "stdout",
          "text": [
            "Enter the number of terms in the Fibonacci series: 5\n",
            "Enter the starting number (default: 1): 0\n",
            "0\n",
            "1\n",
            "1\n",
            "2\n",
            "3\n"
          ]
        }
      ]
    },
    {
      "cell_type": "code",
      "source": [
        "def fibonacci(n, starting_number=1):\n",
        "  \"\"\"\n",
        "  Generates the Fibonacci sequence up to the nth term.\n",
        "\n",
        "  Args:\n",
        "      n (int): The number of terms in the sequence.\n",
        "      starting_number (int, optional): The starting number of the sequence. Defaults to 1.\n",
        "\n",
        "  Returns:\n",
        "      list: A list containing the Fibonacci sequence up to the nth term.\n",
        "  \"\"\"\n",
        "\n",
        "  if n <= 1:\n",
        "    return [starting_number]\n",
        "\n",
        "  # Pre-calculate the first two terms\n",
        "  a, b = starting_number, starting_number + 1\n",
        "\n",
        "  # Generate the sequence using a loop (avoiding unnecessary calculations)\n",
        "  fibonacci_sequence = [a, b]\n",
        "  for _ in range(2, n):\n",
        "    c = a + b\n",
        "    fibonacci_sequence.append(c)\n",
        "    a, b = b, c  # Update values efficiently\n",
        "\n",
        "  return fibonacci_sequence\n",
        "\n",
        "# Get user input (optional)\n",
        "series = int(input(\"Enter the number of terms (or leave blank for default 11): \") or 11)\n",
        "starting_number = int(input(\"Enter the starting number (default: 1): \") or 1)\n",
        "\n",
        "# Generate the Fibonacci sequence using the optimized function\n",
        "sequence = fibonacci(series, starting_number)\n",
        "\n",
        "# Print the sequence\n",
        "print(\"Fibonacci sequence:\", sequence)\n"
      ],
      "metadata": {
        "colab": {
          "base_uri": "https://localhost:8080/"
        },
        "id": "kKUlWvq4Caqf",
        "outputId": "e376660f-9524-4bc2-aa48-11d2a12989b7"
      },
      "execution_count": null,
      "outputs": [
        {
          "output_type": "stream",
          "name": "stdout",
          "text": [
            "Enter the number of terms (or leave blank for default 11): 10\n",
            "Enter the starting number (default: 1): 0\n",
            "Fibonacci sequence: [0, 1, 1, 2, 3, 5, 8, 13, 21, 34]\n"
          ]
        }
      ]
    },
    {
      "cell_type": "markdown",
      "source": [
        "Explanation of Optimizations:\n",
        "\n",
        "Function: We've encapsulated the logic in a reusable function fibonacci(n, starting_number). This improves code organization and readability.\n",
        "\n",
        "Docstring: The function now includes a docstring explaining its purpose, arguments, and return value.\n",
        "\n",
        "Early Return: The base cases (n <= 1) are handled efficiently with an early return.\n",
        "\n",
        "Pre-calculation: The first two terms (a and b) are pre-calculated outside the loop, avoiding redundant calculations.\n",
        "\n",
        "Loop Optimization: The loop uses a throwaway counter (_) for efficiency. This avoids the need for an additional variable to track iterations.\n",
        "\n",
        "Efficient Updates: The values of a and b are updated directly within the loop, reducing the number of lines and improving readability.\n",
        "\n",
        "User Input (Optional): The code retains the flexibility to accept user input for series length and starting number (can be replaced with fixed values if desired).\n",
        "\n",
        "This optimized code offers several benefits:\n",
        "\n",
        "Readability: The use of a function and descriptive variable names enhances code clarity.\n",
        "\n",
        "Maintainability: The code is easier to understand, modify, and reuse.\n",
        "\n",
        "Efficiency: Unnecessary calculations are avoided, resulting in faster execution for larger sequences."
      ],
      "metadata": {
        "id": "iXcZW_bMC0Jt"
      }
    },
    {
      "cell_type": "markdown",
      "source": [
        "Q7. Write a List Comprehension to iterate through the given string: ‘pwskills’.\n",
        "Expected output: ['p', 'w', 's', 'k', 'i', 'l', 'l', 's']"
      ],
      "metadata": {
        "id": "P11n576PC5EY"
      }
    },
    {
      "cell_type": "markdown",
      "source": [],
      "metadata": {
        "id": "bkdx4304JQTK"
      }
    },
    {
      "cell_type": "code",
      "source": [
        "string = \"pwskills\"\n",
        "l1 = [i for i in string ]\n",
        "print(l1)"
      ],
      "metadata": {
        "colab": {
          "base_uri": "https://localhost:8080/",
          "height": 0
        },
        "id": "NziYmA2BC9Vo",
        "outputId": "7c5245c7-95e3-4d3a-a65f-3e873972f7a7"
      },
      "execution_count": 2,
      "outputs": [
        {
          "output_type": "stream",
          "name": "stdout",
          "text": [
            "['p', 'w', 's', 'k', 'i', 'l', 'l', 's']\n"
          ]
        }
      ]
    },
    {
      "cell_type": "markdown",
      "source": [
        "can't call a method (.append()) within a list comprehension.\n"
      ],
      "metadata": {
        "id": "FlGxEwonEE0N"
      }
    },
    {
      "cell_type": "markdown",
      "source": [
        "Q8. Write a python program to check whether a given number is Palindrome or not using a while loop."
      ],
      "metadata": {
        "id": "KCgCcPGWErrD"
      }
    },
    {
      "cell_type": "code",
      "source": [
        "no = int(input(\"Enter a number to check whether a given number is Palindrome: \"))\n",
        "l1 = [no]\n",
        "while l1 == l1[::-1] :\n",
        "   print( str(no) + \" is palindrome a number\")\n",
        "   break"
      ],
      "metadata": {
        "id": "zGtTqNM3Es0A",
        "colab": {
          "base_uri": "https://localhost:8080/",
          "height": 0
        },
        "outputId": "58b2f2c6-837f-4ee6-f29c-2e3daf4b5792"
      },
      "execution_count": 45,
      "outputs": [
        {
          "output_type": "stream",
          "name": "stdout",
          "text": [
            "Enter a number to check whether a given number is Palindrome: 2002\n",
            "2002 is palindrome a number\n"
          ]
        }
      ]
    },
    {
      "cell_type": "code",
      "source": [
        "def is_palindrome(number):\n",
        "  \"\"\"Checks if a number is a palindrome (reads the same backward as forward).\n",
        "\n",
        "  Args:\n",
        "      number (int): The number to check.\n",
        "\n",
        "  Returns:\n",
        "      bool: True if the number is a palindrome, False otherwise.\n",
        "  \"\"\"\n",
        "\n",
        "  # Handle negative numbers directly (not palindromes)\n",
        "  if number < 0:\n",
        "    return False\n",
        "\n",
        "  # Efficiently convert number to string and check for palindrome\n",
        "  return str(number) == str(number)[::-1]\n"
      ],
      "metadata": {
        "id": "J4gIFKNNJS63"
      },
      "execution_count": null,
      "outputs": []
    },
    {
      "cell_type": "code",
      "source": [],
      "metadata": {
        "id": "qjDXEHwTLgoS"
      },
      "execution_count": null,
      "outputs": []
    },
    {
      "cell_type": "markdown",
      "source": [
        "Q9. Write a code to print odd numbers from 1 to 100 using list comprehension."
      ],
      "metadata": {
        "id": "pT6WXJLzIe7F"
      }
    },
    {
      "cell_type": "code",
      "source": [
        "l1 = [i for i in range(1,101) if i%2 == 1]\n",
        "print(l1)"
      ],
      "metadata": {
        "colab": {
          "base_uri": "https://localhost:8080/",
          "height": 0
        },
        "id": "mAIATSLUIi30",
        "outputId": "27910761-b1f9-4977-f612-197072bef8cf"
      },
      "execution_count": 43,
      "outputs": [
        {
          "output_type": "stream",
          "name": "stdout",
          "text": [
            "[1, 3, 5, 7, 9, 11, 13, 15, 17, 19, 21, 23, 25, 27, 29, 31, 33, 35, 37, 39, 41, 43, 45, 47, 49, 51, 53, 55, 57, 59, 61, 63, 65, 67, 69, 71, 73, 75, 77, 79, 81, 83, 85, 87, 89, 91, 93, 95, 97, 99]\n"
          ]
        }
      ]
    }
  ]
}